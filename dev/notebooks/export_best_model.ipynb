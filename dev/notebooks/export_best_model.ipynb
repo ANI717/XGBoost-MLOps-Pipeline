{
 "cells": [
  {
   "cell_type": "markdown",
   "id": "577c583f",
   "metadata": {},
   "source": [
    "## Import Modules"
   ]
  },
  {
   "cell_type": "code",
   "execution_count": 16,
   "id": "b8017919",
   "metadata": {},
   "outputs": [],
   "source": [
    "import os\n",
    "import mlflow\n",
    "import shutil\n",
    "import pickle\n",
    "import xgboost as xgb"
   ]
  },
  {
   "cell_type": "markdown",
   "id": "8256ec4f",
   "metadata": {},
   "source": [
    "## Import Model From MLFlow"
   ]
  },
  {
   "cell_type": "code",
   "execution_count": null,
   "id": "3ba35910",
   "metadata": {},
   "outputs": [],
   "source": [
    "run_id = \"36d3b356719f4f7b920701953e523067\""
   ]
  },
  {
   "cell_type": "code",
   "execution_count": null,
   "id": "4e136c88",
   "metadata": {},
   "outputs": [],
   "source": [
    "mlruns_directory = os.path.join(os.getcwd(), \"..\", \"mlruns\")\n",
    "mlflow.set_tracking_uri(f\"file:{mlruns_directory}\")"
   ]
  },
  {
   "cell_type": "code",
   "execution_count": 15,
   "id": "012046fb",
   "metadata": {},
   "outputs": [
    {
     "data": {
      "application/vnd.jupyter.widget-view+json": {
       "model_id": "53265d0f8b27472fb4849af92fa4de1b",
       "version_major": 2,
       "version_minor": 0
      },
      "text/plain": [
       "Downloading artifacts:   0%|          | 0/1 [00:00<?, ?it/s]"
      ]
     },
     "metadata": {},
     "output_type": "display_data"
    },
    {
     "data": {
      "application/vnd.jupyter.widget-view+json": {
       "model_id": "697efc532de846d7957dbbf1f8e789f3",
       "version_major": 2,
       "version_minor": 0
      },
      "text/plain": [
       "Downloading artifacts:   0%|          | 0/5 [00:00<?, ?it/s]"
      ]
     },
     "metadata": {},
     "output_type": "display_data"
    },
    {
     "data": {
      "text/plain": [
       "'f:\\\\GitHub\\\\XGBoost-MLOps-Pipeline\\\\dev\\\\artifacts\\\\model\\\\'"
      ]
     },
     "execution_count": 15,
     "metadata": {},
     "output_type": "execute_result"
    }
   ],
   "source": [
    "model_uri = f\"runs:/{run_id}/model\"\n",
    "mlflow.artifacts.download_artifacts(model_uri, dst_path=\"../artifacts\")"
   ]
  },
  {
   "cell_type": "markdown",
   "id": "4ea5ea04",
   "metadata": {},
   "source": [
    "## Export Model as Pickle"
   ]
  },
  {
   "cell_type": "code",
   "execution_count": 19,
   "id": "5ad17e1a",
   "metadata": {},
   "outputs": [],
   "source": [
    "# Load the XGBoost model from native format\n",
    "model_path = os.path.join(os.getcwd(), \"..\", \"artifacts\", \"model\", \"model.xgb\")\n",
    "model = xgb.Booster()\n",
    "model.load_model(model_path)"
   ]
  },
  {
   "cell_type": "code",
   "execution_count": 21,
   "id": "dbf646f9",
   "metadata": {},
   "outputs": [
    {
     "name": "stdout",
     "output_type": "stream",
     "text": [
      "Model converted and saved to: f:\\GitHub\\XGBoost-MLOps-Pipeline\\dev\\notebooks\\..\\..\\model\\src\\xgboost_predictor\\artifacts\\model.pkl\n"
     ]
    }
   ],
   "source": [
    "# Save as pickle\n",
    "pickle_path = os.path.join(os.getcwd(), \"..\", \"..\", \"model\", \"src\", \"xgboost_predictor\", \"artifacts\", \"model.pkl\")\n",
    "with open(pickle_path, 'wb') as f:\n",
    "    pickle.dump(model, f)\n",
    "\n",
    "print(f\"Model converted and saved to: {pickle_path}\")\n"
   ]
  }
 ],
 "metadata": {
  "kernelspec": {
   "display_name": "base",
   "language": "python",
   "name": "python3"
  },
  "language_info": {
   "codemirror_mode": {
    "name": "ipython",
    "version": 3
   },
   "file_extension": ".py",
   "mimetype": "text/x-python",
   "name": "python",
   "nbconvert_exporter": "python",
   "pygments_lexer": "ipython3",
   "version": "3.12.7"
  }
 },
 "nbformat": 4,
 "nbformat_minor": 5
}
