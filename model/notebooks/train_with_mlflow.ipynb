{
 "cells": [
  {
   "cell_type": "markdown",
   "id": "5092f877",
   "metadata": {},
   "source": [
    "## Import Modules"
   ]
  },
  {
   "cell_type": "code",
   "execution_count": 53,
   "id": "00b944ed",
   "metadata": {},
   "outputs": [],
   "source": [
    "import os\n",
    "import mlflow\n",
    "import mlflow.xgboost\n",
    "import xgboost as xgb\n",
    "from sklearn.datasets import load_breast_cancer\n",
    "from sklearn.model_selection import train_test_split\n",
    "from sklearn.metrics import accuracy_score"
   ]
  },
  {
   "cell_type": "markdown",
   "id": "57a6e207",
   "metadata": {},
   "source": [
    "## Prepare Data"
   ]
  },
  {
   "cell_type": "code",
   "execution_count": 56,
   "id": "d3ef98f0",
   "metadata": {},
   "outputs": [],
   "source": [
    "# 1. Load data\n",
    "data = load_breast_cancer()"
   ]
  },
  {
   "cell_type": "code",
   "execution_count": 57,
   "id": "697df5f9",
   "metadata": {},
   "outputs": [],
   "source": [
    "# 2. Split data\n",
    "X_train, X_test, y_train, y_test = train_test_split(\n",
    "    data.data,\n",
    "    data.target,\n",
    "    test_size=0.2,\n",
    "    random_state=717\n",
    "    )"
   ]
  },
  {
   "cell_type": "markdown",
   "id": "4b985f0f",
   "metadata": {},
   "source": [
    "## Train XGBoost Model with MLFlow"
   ]
  },
  {
   "cell_type": "code",
   "execution_count": 58,
   "id": "cc167944",
   "metadata": {},
   "outputs": [],
   "source": [
    "mlruns_directory = os.path.join(os.getcwd(), \"..\", \"mlruns\")\n",
    "os.makedirs(mlruns_directory, exist_ok=True)"
   ]
  },
  {
   "cell_type": "code",
   "execution_count": 63,
   "id": "e868fdab",
   "metadata": {},
   "outputs": [],
   "source": [
    "# Set tracking URI to parent directory\n",
    "mlflow.set_tracking_uri(f\"file:{mlruns_directory}\")"
   ]
  },
  {
   "cell_type": "code",
   "execution_count": 64,
   "id": "b581b223",
   "metadata": {},
   "outputs": [
    {
     "name": "stderr",
     "output_type": "stream",
     "text": [
      "2025/07/04 17:50:49 INFO mlflow.tracking.fluent: Experiment with name 'xgboost-breast-cancer' does not exist. Creating a new experiment.\n"
     ]
    },
    {
     "data": {
      "text/plain": [
       "<Experiment: artifact_location='file:f:\\\\GitHub\\\\xgboost-mlops-pipeline\\\\model\\\\notebooks\\\\..\\\\mlruns/815168156842703501', creation_time=1751665849318, experiment_id='815168156842703501', last_update_time=1751665849318, lifecycle_stage='active', name='xgboost-breast-cancer', tags={}>"
      ]
     },
     "execution_count": 64,
     "metadata": {},
     "output_type": "execute_result"
    }
   ],
   "source": [
    "# Create or set experiment\n",
    "mlflow.set_experiment(\"xgboost-breast-cancer\")"
   ]
  },
  {
   "cell_type": "code",
   "execution_count": 69,
   "id": "c460b538",
   "metadata": {},
   "outputs": [
    {
     "name": "stderr",
     "output_type": "stream",
     "text": [
      "2025/07/04 18:00:29 WARNING mlflow.models.model: `artifact_path` is deprecated. Please use `name` instead.\n",
      "f:\\GitHub\\xgboost-mlops-pipeline\\model\\venv\\Lib\\site-packages\\xgboost\\sklearn.py:1028: UserWarning: [18:00:29] WARNING: C:\\actions-runner\\_work\\xgboost\\xgboost\\src\\c_api\\c_api.cc:1427: Saving model in the UBJSON format as default.  You can use file extension: `json`, `ubj` or `deprecated` to choose between formats.\n",
      "  self.get_booster().save_model(fname)\n",
      "2025/07/04 18:00:33 WARNING mlflow.models.model: Model logged without a signature and input example. Please set `input_example` parameter when logging the model to auto infer the model signature.\n"
     ]
    },
    {
     "name": "stdout",
     "output_type": "stream",
     "text": [
      "Run complete. Accuracy: 0.9474\n"
     ]
    }
   ],
   "source": [
    "with mlflow.start_run():\n",
    "\n",
    "    # Define model and hyperparameters\n",
    "    params = {\n",
    "        \"n_estimators\": 100,\n",
    "        \"learning_rate\": 0.1,\n",
    "        \"max_depth\": 3,\n",
    "        \"eval_metric\": \"logloss\",\n",
    "        \"random_state\": 717\n",
    "    }\n",
    "\n",
    "\n",
    "    # Log hyperparameters\n",
    "    mlflow.log_params(params)\n",
    "\n",
    "    \n",
    "    # Initialize the model\n",
    "    model = xgb.XGBClassifier(**params)\n",
    "\n",
    "\n",
    "    # Train the model\n",
    "    model.fit(X_train, y_train)\n",
    "\n",
    "\n",
    "    # Make predictions\n",
    "    y_pred = model.predict(X_test)\n",
    "    \n",
    "\n",
    "    # Calculate accuracy\n",
    "    accuracy = accuracy_score(y_test, y_pred)\n",
    "    \n",
    "\n",
    "    # Log metrics\n",
    "    mlflow.log_metric(\"accuracy\", accuracy)\n",
    "    \n",
    "\n",
    "    # Log model\n",
    "    mlflow.xgboost.log_model(model, \"model\")\n",
    "    \n",
    "    \n",
    "    print(f\"Run complete. Accuracy: {accuracy:.4f}\")\n"
   ]
  }
 ],
 "metadata": {
  "kernelspec": {
   "display_name": "venv",
   "language": "python",
   "name": "python3"
  },
  "language_info": {
   "codemirror_mode": {
    "name": "ipython",
    "version": 3
   },
   "file_extension": ".py",
   "mimetype": "text/x-python",
   "name": "python",
   "nbconvert_exporter": "python",
   "pygments_lexer": "ipython3",
   "version": "3.12.7"
  }
 },
 "nbformat": 4,
 "nbformat_minor": 5
}
